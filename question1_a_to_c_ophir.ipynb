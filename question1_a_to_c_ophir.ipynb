{
 "cells": [
  {
   "cell_type": "code",
   "execution_count": 3,
   "metadata": {},
   "outputs": [],
   "source": [
    "# import packages\n",
    "import pandas as pd\n",
    "import numpy as np\n",
    "import sklearn\n",
    "import sklearn.neighbors\n",
    "import sklearn.metrics\n",
    "from sklearn.model_selection import train_test_split\n",
    "from sklearn import datasets\n",
    "from sklearn.model_selection import train_test_split\n",
    "from sklearn.linear_model import LogisticRegression\n",
    "from sklearn.metrics import accuracy_score, confusion_matrix\n",
    "import matplotlib.pyplot as plt\n",
    "import seaborn as sns"
   ]
  },
  {
   "cell_type": "markdown",
   "metadata": {},
   "source": [
    "## Question 1(a)"
   ]
  },
  {
   "cell_type": "markdown",
   "metadata": {},
   "source": [
    "### Checking the dataset"
   ]
  },
  {
   "cell_type": "code",
   "execution_count": 4,
   "metadata": {},
   "outputs": [],
   "source": [
    "# Read CSV train data file into DataFrame\n",
    "train_df = pd.read_csv(\"train.csv\")\n",
    "\n",
    "# Read CSV test data file into DataFrame\n",
    "test_df = pd.read_csv(\"test.csv\")"
   ]
  },
  {
   "cell_type": "code",
   "execution_count": null,
   "metadata": {},
   "outputs": [],
   "source": [
    "train_df.head()"
   ]
  },
  {
   "cell_type": "code",
   "execution_count": 105,
   "metadata": {},
   "outputs": [
    {
     "data": {
      "text/plain": [
       "42000"
      ]
     },
     "execution_count": 105,
     "metadata": {},
     "output_type": "execute_result"
    }
   ],
   "source": [
    "len(train_df)\n",
    "#  42,000 row, 785 columns (1st = label, rest = pixel)"
   ]
  },
  {
   "cell_type": "code",
   "execution_count": null,
   "metadata": {},
   "outputs": [],
   "source": [
    "test_df.head()"
   ]
  },
  {
   "cell_type": "code",
   "execution_count": 107,
   "metadata": {},
   "outputs": [
    {
     "data": {
      "text/plain": [
       "28000"
      ]
     },
     "execution_count": 107,
     "metadata": {},
     "output_type": "execute_result"
    }
   ],
   "source": [
    "len(test_df)\n",
    "\n",
    "#  28,000 results (784 columns, no label = Y in the test data!)"
   ]
  },
  {
   "cell_type": "code",
   "execution_count": 12,
   "metadata": {},
   "outputs": [],
   "source": [
    "# train_df = train_df[(train_df != 0).any(axis=1)]"
   ]
  },
  {
   "cell_type": "code",
   "execution_count": 13,
   "metadata": {},
   "outputs": [],
   "source": [
    "# train_df"
   ]
  },
  {
   "cell_type": "code",
   "execution_count": 110,
   "metadata": {},
   "outputs": [
    {
     "data": {
      "text/plain": [
       "Series([], dtype: int64)"
      ]
     },
     "execution_count": 110,
     "metadata": {},
     "output_type": "execute_result"
    }
   ],
   "source": [
    "#check null values:\n",
    "df = train_df.isnull().sum()\n",
    "df[df!=0]\n",
    "#no null values!"
   ]
  },
  {
   "cell_type": "markdown",
   "metadata": {},
   "source": [
    "## Question 1(B):"
   ]
  },
  {
   "cell_type": "markdown",
   "metadata": {},
   "source": [
    "### Write a function to display an MNIST digit. Display one of each digit"
   ]
  },
  {
   "cell_type": "code",
   "execution_count": 5,
   "metadata": {},
   "outputs": [],
   "source": [
    "# Split into target and feature variables \n",
    "X_train = train_df.drop(columns = ['label'],axis=1)\n",
    "Y_train = train_df['label']"
   ]
  },
  {
   "cell_type": "code",
   "execution_count": 6,
   "metadata": {},
   "outputs": [],
   "source": [
    "# Function that returns the plot of each row:\n",
    "\n",
    "def gen_image(row):\n",
    "    testImage = (np.array(row, dtype='float')).reshape(28,28)\n",
    "    plt.imshow(testImage, cmap='gray')\n",
    "    return plt"
   ]
  },
  {
   "cell_type": "code",
   "execution_count": 7,
   "metadata": {},
   "outputs": [],
   "source": [
    "#iterating over all row to find the unique digits:\n",
    "\n",
    "unique_num_indexes = []\n",
    "unique_num_values = []\n",
    "\n",
    "for i in range(0, len(train_df)):\n",
    "    if Y_train[i] not in unique_num_values:\n",
    "        unique_num_indexes.append(i)\n",
    "        unique_num_values.append(Y_train[i])\n",
    "    "
   ]
  },
  {
   "cell_type": "code",
   "execution_count": 8,
   "metadata": {},
   "outputs": [
    {
     "data": {
      "text/plain": [
       "[0, 1, 3, 6, 7, 8, 10, 11, 16, 21]"
      ]
     },
     "execution_count": 8,
     "metadata": {},
     "output_type": "execute_result"
    }
   ],
   "source": [
    "#show array of unique indexes\n",
    "unique_num_indexes.sort()\n",
    "unique_num_indexes"
   ]
  },
  {
   "cell_type": "code",
   "execution_count": 9,
   "metadata": {},
   "outputs": [
    {
     "data": {
      "text/plain": [
       "[0, 1, 2, 3, 4, 5, 6, 7, 8, 9]"
      ]
     },
     "execution_count": 9,
     "metadata": {},
     "output_type": "execute_result"
    }
   ],
   "source": [
    "#show array of unique values\n",
    "unique_num_values.sort()\n",
    "unique_num_values"
   ]
  },
  {
   "cell_type": "code",
   "execution_count": 10,
   "metadata": {},
   "outputs": [
    {
     "data": {
      "image/png": "[encoded data removed]",
      "text/plain": [
       "<Figure size 432x288 with 1 Axes>"
      ]
     },
     "metadata": {
      "needs_background": "light"
     },
     "output_type": "display_data"
    }
   ],
   "source": [
    "#confirm indeed all numbers 0-9 appear:\n",
    "gen_image(X_train.iloc[0].to_numpy()) #figure - 1\n",
    "plt.savefig('number_1_plot')\n",
    "gen_image(X_train.iloc[1].to_numpy()) #figure - 0\n",
    "plt.savefig('number_0_plot')\n",
    "gen_image(X_train.iloc[3].to_numpy()) #figure - 4\n",
    "plt.savefig('number_4_plot')\n",
    "gen_image(X_train.iloc[6].to_numpy()) #figure - 7\n",
    "plt.savefig('number_7_plot')\n",
    "gen_image(X_train.iloc[7].to_numpy()) #figure - 3\n",
    "plt.savefig('number_3_plot')\n",
    "gen_image(X_train.iloc[8].to_numpy()) #figure - 5\n",
    "plt.savefig('number_5_plot')\n",
    "gen_image(X_train.iloc[10].to_numpy()) #figure - 8\n",
    "plt.savefig('number_8_plot')\n",
    "gen_image(X_train.iloc[11].to_numpy()) #figure - 9\n",
    "plt.savefig('number_9_plot')\n",
    "gen_image(X_train.iloc[16].to_numpy()) #figure - 2\n",
    "plt.savefig('number_2_plot')\n",
    "gen_image(X_train.iloc[21].to_numpy()) #figure - 6\n",
    "plt.savefig('number_6_plot')"
   ]
  },
  {
   "cell_type": "code",
   "execution_count": 11,
   "metadata": {},
   "outputs": [
    {
     "data": {
      "image/png": "[encoded data removed]",
      "text/plain": [
       "<Figure size 432x288 with 1 Axes>"
      ]
     },
     "metadata": {
      "needs_background": "light"
     },
     "output_type": "display_data"
    },
    {
     "data": {
      "image/png": "[encoded data removed]",
      "text/plain": [
       "<Figure size 432x288 with 1 Axes>"
      ]
     },
     "metadata": {
      "needs_background": "light"
     },
     "output_type": "display_data"
    },
    {
     "data": {
      "image/png": "[encoded data removed]",
      "text/plain": [
       "<Figure size 432x288 with 1 Axes>"
      ]
     },
     "metadata": {
      "needs_background": "light"
     },
     "output_type": "display_data"
    },
    {
     "data": {
      "image/png": "[encoded data removed]",
      "text/plain": [
       "<Figure size 432x288 with 1 Axes>"
      ]
     },
     "metadata": {
      "needs_background": "light"
     },
     "output_type": "display_data"
    },
    {
     "data": {
      "image/png": "[encoded data removed]",
      "text/plain": [
       "<Figure size 432x288 with 1 Axes>"
      ]
     },
     "metadata": {
      "needs_background": "light"
     },
     "output_type": "display_data"
    },
    {
     "data": {
      "image/png": "[encoded data removed]",
      "text/plain": [
       "<Figure size 432x288 with 1 Axes>"
      ]
     },
     "metadata": {
      "needs_background": "light"
     },
     "output_type": "display_data"
    },
    {
     "data": {
      "image/png": "[encoded data removed]",
      "text/plain": [
       "<Figure size 432x288 with 1 Axes>"
      ]
     },
     "metadata": {
      "needs_background": "light"
     },
     "output_type": "display_data"
    },
    {
     "data": {
      "image/png": "[encoded data removed]",
      "text/plain": [
       "<Figure size 432x288 with 1 Axes>"
      ]
     },
     "metadata": {
      "needs_background": "light"
     },
     "output_type": "display_data"
    },
    {
     "data": {
      "image/png": "[encoded data removed]",
      "text/plain": [
       "<Figure size 432x288 with 1 Axes>"
      ]
     },
     "metadata": {
      "needs_background": "light"
     },
     "output_type": "display_data"
    },
    {
     "data": {
      "image/png": "[encoded data removed]",
      "text/plain": [
       "<Figure size 432x288 with 1 Axes>"
      ]
     },
     "metadata": {
      "needs_background": "light"
     },
     "output_type": "display_data"
    }
   ],
   "source": [
    "#show all plots according to the indexes:\n",
    "for x in unique_num_indexes:\n",
    "    gen_image(X_train.iloc[x].to_numpy()).show()\n",
    "    \n",
    "    \n",
    "#     plt.savefig?"
   ]
  },
  {
   "cell_type": "markdown",
   "metadata": {},
   "source": [
    "Question 3:\n",
    "\n",
    "Pick one example of each digit from your training data. Then, for each sample digit, compute\n",
    "and show the best match (nearest neighbor) between your chosen sample and the rest of\n",
    "the training data. Use L2 distance between the two images’ pixel values as the metric. This\n",
    "probably won’t be perfect, so add an asterisk next to the erroneous examples (if any).\n"
   ]
  },
  {
   "cell_type": "code",
   "execution_count": 13,
   "metadata": {},
   "outputs": [],
   "source": [
    "def distance(arr):\n",
    "    min_dist = 100000000\n",
    "    shortest_index = -1\n",
    "    for i in range(0, len(train_df)):\n",
    "        temp_dist = np.linalg.norm(arr - X_train.iloc[i].to_numpy())\n",
    "        if temp_dist < min_dist and temp_dist != 0:\n",
    "            min_dist = temp_dist\n",
    "            shortest_index = i\n",
    "            \n",
    "    return min_dist, shortest_index"
   ]
  },
  {
   "cell_type": "code",
   "execution_count": 48,
   "metadata": {},
   "outputs": [],
   "source": [
    "# function that draws pairs of numbers:\n",
    "def pair_plots(original_index, shortest_index):\n",
    "    plt.subplot(331)\n",
    "    plt.imshow(X_train.iloc[original_index].to_numpy().reshape(28,28), cmap='gray')\n",
    "    plt.subplot(333)\n",
    "    plt.imshow(X_train.iloc[shortest_index].to_numpy().reshape(28,28), cmap='gray')\n",
    "               "
   ]
  },
  {
   "cell_type": "code",
   "execution_count": 44,
   "metadata": {},
   "outputs": [
    {
     "data": {
      "image/png": "[encoded data removed]",
      "text/plain": [
       "<Figure size 432x288 with 2 Axes>"
      ]
     },
     "metadata": {
      "needs_background": "light"
     },
     "output_type": "display_data"
    }
   ],
   "source": [
    "#how would the first number comparison would look like?\n",
    "pair_plots(0,29704)"
   ]
  },
  {
   "cell_type": "code",
   "execution_count": 42,
   "metadata": {},
   "outputs": [
    {
     "data": {
      "text/plain": [
       "<matplotlib.image.AxesImage at 0x19c37f92640>"
      ]
     },
     "execution_count": 42,
     "metadata": {},
     "output_type": "execute_result"
    },
    {
     "data": {
      "image/png": "[encoded data removed]",
      "text/plain": [
       "<Figure size 432x288 with 1 Axes>"
      ]
     },
     "metadata": {
      "needs_background": "light"
     },
     "output_type": "display_data"
    }
   ],
   "source": [
    "#reminder to how I wrote it\n",
    "plt.imshow(X_train.iloc[x].to_numpy().reshape(28,28), cmap='gray')"
   ]
  },
  {
   "cell_type": "code",
   "execution_count": 33,
   "metadata": {},
   "outputs": [],
   "source": [
    "#creating dictionary with the original index that created the number, the minimum distance and the row that gave the minimum distance\n",
    "shortest_dist_dict = {}\n",
    "i = 0\n",
    "for x in unique_num_indexes:\n",
    "    (min_dist, shortest_index) = distance(X_train.iloc[x].to_numpy())\n",
    "    shortest_dist_dict[i] = (x, min_dist, shortest_index)\n",
    "    i+=1;\n",
    "    \n",
    "    \n",
    "#     all_min_dist.append(min_dist)\n",
    "#     ax1 = gen_image(X_train.iloc[min_dist_x[1]].to_numpy()).show()\n",
    "#     ax2 = gen_image(X_train.iloc[x].to_numpy()).show()\n",
    "#     fig, (ax1, ax2) = plt.subplots(1, 2)"
   ]
  },
  {
   "cell_type": "code",
   "execution_count": 38,
   "metadata": {},
   "outputs": [
    {
     "name": "stdout",
     "output_type": "stream",
     "text": [
      "{0: (0, 489.67948701165744, 29704), 1: (1, 1046.5954328201515, 12950), 2: (3, 1356.8809822530493, 14787), 3: (6, 863.5010133172977, 15275), 4: (7, 1832.6649993929605, 8981), 5: (8, 1066.3676664265472, 30073), 6: (10, 1593.7775879965184, 32586), 7: (11, 910.5767403135224, 35742), 8: (16, 1380.877257398354, 9536), 9: (21, 1446.5113203843239, 16240)}\n"
     ]
    }
   ],
   "source": [
    "#make sure it looks good:\n",
    "print(shortest_dist_dict)"
   ]
  },
  {
   "cell_type": "code",
   "execution_count": 51,
   "metadata": {},
   "outputs": [
    {
     "data": {
      "image/png": "[encoded data removed]",
      "text/plain": [
       "<Figure size 432x288 with 2 Axes>"
      ]
     },
     "metadata": {
      "needs_background": "light"
     },
     "output_type": "display_data"
    }
   ],
   "source": [
    "# how does the comparison look like?\n",
    "pair_plots(shortest_dist_dict[5][0], shortest_dist_dict[5][2])"
   ]
  },
  {
   "cell_type": "code",
   "execution_count": 52,
   "metadata": {},
   "outputs": [
    {
     "name": "stderr",
     "output_type": "stream",
     "text": [
      "<ipython-input-48-0b2aa543ca67>:3: MatplotlibDeprecationWarning: Adding an axes using the same arguments as a previous axes currently reuses the earlier instance.  In a future version, a new instance will always be created and returned.  Meanwhile, this warning can be suppressed, and the future behavior ensured, by passing a unique label to each axes instance.\n",
      "  plt.subplot(331)\n",
      "<ipython-input-48-0b2aa543ca67>:5: MatplotlibDeprecationWarning: Adding an axes using the same arguments as a previous axes currently reuses the earlier instance.  In a future version, a new instance will always be created and returned.  Meanwhile, this warning can be suppressed, and the future behavior ensured, by passing a unique label to each axes instance.\n",
      "  plt.subplot(333)\n"
     ]
    },
    {
     "data": {
      "image/png": "[encoded data removed]",
      "text/plain": [
       "<Figure size 432x288 with 2 Axes>"
      ]
     },
     "metadata": {
      "needs_background": "light"
     },
     "output_type": "display_data"
    }
   ],
   "source": [
    "#plot pairs for all 9 numbers:\n",
    "for i in range(0,9):\n",
    "    pair_plots(shortest_dist_dict[i][0], shortest_dist_dict[i][2])"
   ]
  }
 ],
 "metadata": {
  "kernelspec": {
   "display_name": "Python 3",
   "language": "python",
   "name": "python3"
  },
  "language_info": {
   "codemirror_mode": {
    "name": "ipython",
    "version": 3
   },
   "file_extension": ".py",
   "mimetype": "text/x-python",
   "name": "python",
   "nbconvert_exporter": "python",
   "pygments_lexer": "ipython3",
   "version": "3.8.3"
  }
 },
 "nbformat": 4,
 "nbformat_minor": 4
}
